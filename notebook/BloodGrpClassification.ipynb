{
  "nbformat": 4,
  "nbformat_minor": 0,
  "metadata": {
    "colab": {
      "provenance": [],
      "gpuType": "T4"
    },
    "kernelspec": {
      "name": "python3",
      "display_name": "Python 3"
    },
    "language_info": {
      "name": "python"
    },
    "accelerator": "GPU"
  },
  "cells": [
    {
      "cell_type": "code",
      "source": [
        "from google.colab import files\n",
        "uploaded = files.upload()\n"
      ],
      "metadata": {
        "colab": {
          "base_uri": "https://localhost:8080/",
          "height": 73
        },
        "id": "dynhFDNMDBYI",
        "outputId": "62a34d13-c1b5-4bab-8593-2d70dc2b9c38"
      },
      "execution_count": null,
      "outputs": [
        {
          "output_type": "display_data",
          "data": {
            "text/plain": [
              "<IPython.core.display.HTML object>"
            ],
            "text/html": [
              "\n",
              "     <input type=\"file\" id=\"files-18a9f5b4-37ff-4d57-9537-21527d4169da\" name=\"files[]\" multiple disabled\n",
              "        style=\"border:none\" />\n",
              "     <output id=\"result-18a9f5b4-37ff-4d57-9537-21527d4169da\">\n",
              "      Upload widget is only available when the cell has been executed in the\n",
              "      current browser session. Please rerun this cell to enable.\n",
              "      </output>\n",
              "      <script>// Copyright 2017 Google LLC\n",
              "//\n",
              "// Licensed under the Apache License, Version 2.0 (the \"License\");\n",
              "// you may not use this file except in compliance with the License.\n",
              "// You may obtain a copy of the License at\n",
              "//\n",
              "//      http://www.apache.org/licenses/LICENSE-2.0\n",
              "//\n",
              "// Unless required by applicable law or agreed to in writing, software\n",
              "// distributed under the License is distributed on an \"AS IS\" BASIS,\n",
              "// WITHOUT WARRANTIES OR CONDITIONS OF ANY KIND, either express or implied.\n",
              "// See the License for the specific language governing permissions and\n",
              "// limitations under the License.\n",
              "\n",
              "/**\n",
              " * @fileoverview Helpers for google.colab Python module.\n",
              " */\n",
              "(function(scope) {\n",
              "function span(text, styleAttributes = {}) {\n",
              "  const element = document.createElement('span');\n",
              "  element.textContent = text;\n",
              "  for (const key of Object.keys(styleAttributes)) {\n",
              "    element.style[key] = styleAttributes[key];\n",
              "  }\n",
              "  return element;\n",
              "}\n",
              "\n",
              "// Max number of bytes which will be uploaded at a time.\n",
              "const MAX_PAYLOAD_SIZE = 100 * 1024;\n",
              "\n",
              "function _uploadFiles(inputId, outputId) {\n",
              "  const steps = uploadFilesStep(inputId, outputId);\n",
              "  const outputElement = document.getElementById(outputId);\n",
              "  // Cache steps on the outputElement to make it available for the next call\n",
              "  // to uploadFilesContinue from Python.\n",
              "  outputElement.steps = steps;\n",
              "\n",
              "  return _uploadFilesContinue(outputId);\n",
              "}\n",
              "\n",
              "// This is roughly an async generator (not supported in the browser yet),\n",
              "// where there are multiple asynchronous steps and the Python side is going\n",
              "// to poll for completion of each step.\n",
              "// This uses a Promise to block the python side on completion of each step,\n",
              "// then passes the result of the previous step as the input to the next step.\n",
              "function _uploadFilesContinue(outputId) {\n",
              "  const outputElement = document.getElementById(outputId);\n",
              "  const steps = outputElement.steps;\n",
              "\n",
              "  const next = steps.next(outputElement.lastPromiseValue);\n",
              "  return Promise.resolve(next.value.promise).then((value) => {\n",
              "    // Cache the last promise value to make it available to the next\n",
              "    // step of the generator.\n",
              "    outputElement.lastPromiseValue = value;\n",
              "    return next.value.response;\n",
              "  });\n",
              "}\n",
              "\n",
              "/**\n",
              " * Generator function which is called between each async step of the upload\n",
              " * process.\n",
              " * @param {string} inputId Element ID of the input file picker element.\n",
              " * @param {string} outputId Element ID of the output display.\n",
              " * @return {!Iterable<!Object>} Iterable of next steps.\n",
              " */\n",
              "function* uploadFilesStep(inputId, outputId) {\n",
              "  const inputElement = document.getElementById(inputId);\n",
              "  inputElement.disabled = false;\n",
              "\n",
              "  const outputElement = document.getElementById(outputId);\n",
              "  outputElement.innerHTML = '';\n",
              "\n",
              "  const pickedPromise = new Promise((resolve) => {\n",
              "    inputElement.addEventListener('change', (e) => {\n",
              "      resolve(e.target.files);\n",
              "    });\n",
              "  });\n",
              "\n",
              "  const cancel = document.createElement('button');\n",
              "  inputElement.parentElement.appendChild(cancel);\n",
              "  cancel.textContent = 'Cancel upload';\n",
              "  const cancelPromise = new Promise((resolve) => {\n",
              "    cancel.onclick = () => {\n",
              "      resolve(null);\n",
              "    };\n",
              "  });\n",
              "\n",
              "  // Wait for the user to pick the files.\n",
              "  const files = yield {\n",
              "    promise: Promise.race([pickedPromise, cancelPromise]),\n",
              "    response: {\n",
              "      action: 'starting',\n",
              "    }\n",
              "  };\n",
              "\n",
              "  cancel.remove();\n",
              "\n",
              "  // Disable the input element since further picks are not allowed.\n",
              "  inputElement.disabled = true;\n",
              "\n",
              "  if (!files) {\n",
              "    return {\n",
              "      response: {\n",
              "        action: 'complete',\n",
              "      }\n",
              "    };\n",
              "  }\n",
              "\n",
              "  for (const file of files) {\n",
              "    const li = document.createElement('li');\n",
              "    li.append(span(file.name, {fontWeight: 'bold'}));\n",
              "    li.append(span(\n",
              "        `(${file.type || 'n/a'}) - ${file.size} bytes, ` +\n",
              "        `last modified: ${\n",
              "            file.lastModifiedDate ? file.lastModifiedDate.toLocaleDateString() :\n",
              "                                    'n/a'} - `));\n",
              "    const percent = span('0% done');\n",
              "    li.appendChild(percent);\n",
              "\n",
              "    outputElement.appendChild(li);\n",
              "\n",
              "    const fileDataPromise = new Promise((resolve) => {\n",
              "      const reader = new FileReader();\n",
              "      reader.onload = (e) => {\n",
              "        resolve(e.target.result);\n",
              "      };\n",
              "      reader.readAsArrayBuffer(file);\n",
              "    });\n",
              "    // Wait for the data to be ready.\n",
              "    let fileData = yield {\n",
              "      promise: fileDataPromise,\n",
              "      response: {\n",
              "        action: 'continue',\n",
              "      }\n",
              "    };\n",
              "\n",
              "    // Use a chunked sending to avoid message size limits. See b/62115660.\n",
              "    let position = 0;\n",
              "    do {\n",
              "      const length = Math.min(fileData.byteLength - position, MAX_PAYLOAD_SIZE);\n",
              "      const chunk = new Uint8Array(fileData, position, length);\n",
              "      position += length;\n",
              "\n",
              "      const base64 = btoa(String.fromCharCode.apply(null, chunk));\n",
              "      yield {\n",
              "        response: {\n",
              "          action: 'append',\n",
              "          file: file.name,\n",
              "          data: base64,\n",
              "        },\n",
              "      };\n",
              "\n",
              "      let percentDone = fileData.byteLength === 0 ?\n",
              "          100 :\n",
              "          Math.round((position / fileData.byteLength) * 100);\n",
              "      percent.textContent = `${percentDone}% done`;\n",
              "\n",
              "    } while (position < fileData.byteLength);\n",
              "  }\n",
              "\n",
              "  // All done.\n",
              "  yield {\n",
              "    response: {\n",
              "      action: 'complete',\n",
              "    }\n",
              "  };\n",
              "}\n",
              "\n",
              "scope.google = scope.google || {};\n",
              "scope.google.colab = scope.google.colab || {};\n",
              "scope.google.colab._files = {\n",
              "  _uploadFiles,\n",
              "  _uploadFilesContinue,\n",
              "};\n",
              "})(self);\n",
              "</script> "
            ]
          },
          "metadata": {}
        },
        {
          "output_type": "stream",
          "name": "stdout",
          "text": [
            "Saving archive (8).zip to archive (8).zip\n"
          ]
        }
      ]
    },
    {
      "cell_type": "code",
      "source": [
        "import zipfile\n",
        "import os\n",
        "\n",
        "with zipfile.ZipFile(\"archive (8).zip\", 'r') as zip_ref:\n",
        "    zip_ref.extractall(\"dataset\")  # This will create a folder named 'dataset'\n"
      ],
      "metadata": {
        "id": "Gk5xjyxyE_4P"
      },
      "execution_count": null,
      "outputs": []
    },
    {
      "cell_type": "code",
      "execution_count": null,
      "metadata": {
        "id": "ySP9ws-T_L1l"
      },
      "outputs": [],
      "source": [
        "import os\n",
        "import shutil\n",
        "from collections import Counter\n",
        "\n",
        "import numpy as np\n",
        "import matplotlib.pyplot as plt\n",
        "import seaborn as sns\n",
        "\n",
        "import tensorflow as tf\n",
        "from tensorflow.keras.preprocessing.image import ImageDataGenerator, load_img, img_to_array, save_img\n",
        "from tensorflow.keras.utils import image_dataset_from_directory\n",
        "\n",
        "from sklearn.utils import resample\n",
        "from sklearn.metrics import classification_report, confusion_matrix\n"
      ]
    },
    {
      "cell_type": "code",
      "source": [
        "dataset_path = \"/content/dataset/dataset_blood_group\""
      ],
      "metadata": {
        "id": "tO7V8hMoAeff"
      },
      "execution_count": null,
      "outputs": []
    },
    {
      "cell_type": "code",
      "source": [
        "BATCH_SIZE = 32"
      ],
      "metadata": {
        "id": "WuSmgjiRNL3Y"
      },
      "execution_count": null,
      "outputs": []
    },
    {
      "cell_type": "code",
      "source": [
        "# Step 1: Load dataset\n",
        "dataset = image_dataset_from_directory(\n",
        "  dataset_path,\n",
        "  labels=\"inferred\",\n",
        "  label_mode=\"int\",\n",
        "  image_size=(64, 64), # Resize images to standard size\n",
        "  batch_size=BATCH_SIZE,\n",
        "  shuffle=True\n",
        ")"
      ],
      "metadata": {
        "colab": {
          "base_uri": "https://localhost:8080/"
        },
        "id": "aDZ9lP2YRr05",
        "outputId": "4d604995-dcb2-4bef-b539-114c52d7fa83"
      },
      "execution_count": null,
      "outputs": [
        {
          "output_type": "stream",
          "name": "stdout",
          "text": [
            "Found 6000 files belonging to 8 classes.\n"
          ]
        }
      ]
    },
    {
      "cell_type": "code",
      "source": [
        "# Step 2: Check class distribution\n",
        "class_names = dataset.class_names\n",
        "class_counts = Counter()\n",
        "for _, labels in dataset.unbatch():\n",
        "  class_counts[int(labels.numpy())] += 1\n",
        "\n",
        "print(\"Class Distribution\")\n",
        "for i, count in class_counts.items():\n",
        "    print(f\"{class_names[i]}: {count}\")"
      ],
      "metadata": {
        "colab": {
          "base_uri": "https://localhost:8080/"
        },
        "id": "jXSWCWT0SSw-",
        "outputId": "487887d1-f17c-4062-98ae-8841eca620f1"
      },
      "execution_count": null,
      "outputs": [
        {
          "output_type": "stream",
          "name": "stdout",
          "text": [
            "Class Distribution\n",
            "B+: 652\n",
            "AB+: 708\n",
            "B-: 741\n",
            "A-: 1009\n",
            "O+: 852\n",
            "A+: 565\n",
            "AB-: 761\n",
            "O-: 712\n"
          ]
        }
      ]
    },
    {
      "cell_type": "code",
      "source": [
        "import matplotlib.pyplot as plt\n",
        "\n",
        "def plot_class_distribution(class_names, class_counts):\n",
        "    \"\"\"\n",
        "    Plots the distribution of classes in the dataset.\n",
        "\n",
        "    Parameters:\n",
        "    - class_names (list): List of class names.\n",
        "    - class_counts (dict): Dictionary with class indices as keys and counts as values.\n",
        "\n",
        "    Returns:\n",
        "    - None\n",
        "    \"\"\"\n",
        "    # Extract class names and their corresponding counts\n",
        "    classes = [class_names[i] for i in class_counts.keys()]\n",
        "    counts = [class_counts[i] for i in class_counts.keys()]\n",
        "\n",
        "    # Plot the bar chart\n",
        "    plt.figure(figsize=(10, 6))\n",
        "    plt.bar(classes, counts, color='skyblue', edgecolor='black')\n",
        "    plt.title(\"Class Distribution in Dataset\")\n",
        "    plt.xlabel(\"Classes\")\n",
        "    plt.ylabel(\"Number of Images\")\n",
        "    plt.xticks(rotation=45)\n",
        "    plt.tight_layout()\n",
        "    plt.show()\n"
      ],
      "metadata": {
        "id": "rRqoM03-S2Iv"
      },
      "execution_count": null,
      "outputs": []
    },
    {
      "cell_type": "code",
      "source": [
        "# Assuming class_names and class_counts are already calculated\n",
        "plot_class_distribution(class_names, class_counts)"
      ],
      "metadata": {
        "colab": {
          "base_uri": "https://localhost:8080/",
          "height": 607
        },
        "id": "SRWyHXCZTdYh",
        "outputId": "813083b1-f952-42a4-c5d0-09525160d221"
      },
      "execution_count": null,
      "outputs": [
        {
          "output_type": "display_data",
          "data": {
            "text/plain": [
              "<Figure size 1000x600 with 1 Axes>"
            ],
            "image/png": "[encoded data removed]"
          },
          "metadata": {}
        }
      ]
    },
    {
      "cell_type": "code",
      "source": [
        "max_count = max(class_counts.values())"
      ],
      "metadata": {
        "id": "AF_cDVJqUV0W"
      },
      "execution_count": null,
      "outputs": []
    },
    {
      "cell_type": "code",
      "source": [
        "# Function to oversample a class\n",
        "def oversample_class(class_id, count, max_count):\n",
        "  # Ensure the dataset is unbatched for filtering\n",
        "  unbatched_dataset = dataset.unbatch()\n",
        "\n",
        "  # Filter the dataset for the specific class\n",
        "  class_dataset = unbatched_dataset.filter(lambda img, lbl: tf.equal(lbl, class_id))\n",
        "\n",
        "  # Calculated the number of reptitions needed\n",
        "  repeat_factor = max_count // count + (max_count % count > 0)\n",
        "\n",
        "  # Repeat the dataset to match the desired count\n",
        "  return class_dataset.repeat(repeat_factor).take(max_count)"
      ],
      "metadata": {
        "id": "8tV5nS59UlBm"
      },
      "execution_count": null,
      "outputs": []
    },
    {
      "cell_type": "code",
      "source": [
        "# Step 1: Balance the dataset\n",
        "balanced_datasets = []\n",
        "for class_id, count in class_counts.items():\n",
        "    balanced_datasets.append(oversample_class(class_id, count, max_count))\n",
        "\n",
        "# Step 2: Combine balanced datasets (still unbatched)\n",
        "balanced_dataset = tf.data.Dataset.sample_from_datasets(balanced_datasets)\n",
        "\n",
        "# ✅ Step 3: Count class distribution (before batching)\n",
        "balanced_labels = [int(lbl.numpy()) for _, lbl in balanced_dataset.take(10000)]  # sample 10k items or use .unbatch()\n",
        "balanced_class_counts = Counter(balanced_labels)\n",
        "plot_class_distribution(class_names, balanced_class_counts)\n",
        "\n",
        "# Step 4: Batch the dataset\n",
        "balanced_dataset = balanced_dataset.batch(BATCH_SIZE, drop_remainder=True)\n"
      ],
      "metadata": {
        "colab": {
          "base_uri": "https://localhost:8080/",
          "height": 607
        },
        "id": "gRKCUjIMVMn-",
        "outputId": "6106c42a-429d-4d54-9893-9e0e01bd691c"
      },
      "execution_count": null,
      "outputs": [
        {
          "output_type": "display_data",
          "data": {
            "text/plain": [
              "<Figure size 1000x600 with 1 Axes>"
            ],
            "image/png": "[encoded data removed]"
          },
          "metadata": {}
        }
      ]
    },
    {
      "cell_type": "code",
      "source": [
        "for sample in balanced_dataset.take(10):\n",
        "  print(sample[0].shape)"
      ],
      "metadata": {
        "id": "EK8Hrk51WCUL",
        "colab": {
          "base_uri": "https://localhost:8080/"
        },
        "outputId": "21745232-9d6d-4804-9572-cf61b072480e"
      },
      "execution_count": null,
      "outputs": [
        {
          "output_type": "stream",
          "name": "stdout",
          "text": [
            "(32, 64, 64, 3)\n",
            "(32, 64, 64, 3)\n",
            "(32, 64, 64, 3)\n",
            "(32, 64, 64, 3)\n",
            "(32, 64, 64, 3)\n",
            "(32, 64, 64, 3)\n",
            "(32, 64, 64, 3)\n",
            "(32, 64, 64, 3)\n",
            "(32, 64, 64, 3)\n",
            "(32, 64, 64, 3)\n"
          ]
        }
      ]
    },
    {
      "cell_type": "code",
      "source": [
        "balanced_dataset_unbatched = balanced_dataset.unbatch()\n",
        "dataset_size = sum(1 for _ in balanced_dataset_unbatched)\n",
        "print(f\"Total dataset size: {dataset_size}\")"
      ],
      "metadata": {
        "colab": {
          "base_uri": "https://localhost:8080/"
        },
        "id": "WTyhVITzWbkT",
        "outputId": "fd717ecf-140d-49ee-e6b6-067965512b9f"
      },
      "execution_count": null,
      "outputs": [
        {
          "output_type": "stream",
          "name": "stdout",
          "text": [
            "Total dataset size: 8064\n"
          ]
        }
      ]
    },
    {
      "cell_type": "code",
      "source": [
        "# Unbatch to operate on individual samples\n",
        "balanced_dataset_unbatched = balanced_dataset.unbatch()\n",
        "\n",
        "# Count total number of samples\n",
        "dataset_size = sum(1 for _ in balanced_dataset_unbatched)\n",
        "\n",
        "# Re-create unbatched dataset (since iterators are exhausted after sum)\n",
        "balanced_dataset_unbatched = balanced_dataset.unbatch()\n",
        "\n",
        "# Ratios\n",
        "train_ratio = 0.7\n",
        "val_ratio = 0.2\n",
        "test_ratio = 0.1  # remaining\n",
        "\n",
        "# Compute sizes\n",
        "train_size = int(train_ratio * dataset_size)\n",
        "val_size = int(val_ratio * dataset_size)\n",
        "\n",
        "# Split the dataset\n",
        "train_dataset = balanced_dataset_unbatched.take(train_size)\n",
        "val_test_dataset = balanced_dataset_unbatched.skip(train_size)\n",
        "\n",
        "val_dataset = val_test_dataset.take(val_size)\n",
        "test_dataset = val_test_dataset.skip(val_size)\n",
        "\n",
        "# Rebatch\n",
        "train_dataset = train_dataset.batch(BATCH_SIZE, drop_remainder=True)\n",
        "val_dataset = val_dataset.batch(BATCH_SIZE, drop_remainder=True)\n",
        "test_dataset = test_dataset.batch(BATCH_SIZE, drop_remainder=True)\n",
        "\n",
        "# Count batches\n",
        "train_batch_count = sum(1 for _ in train_dataset)\n",
        "val_batch_count = sum(1 for _ in val_dataset)\n",
        "test_batch_count = sum(1 for _ in test_dataset)\n",
        "\n",
        "print(f\"Training dataset size: {train_batch_count * BATCH_SIZE}\")\n",
        "print(f\"Validation dataset size: {val_batch_count * BATCH_SIZE}\")\n",
        "print(f\"Testing dataset size: {test_batch_count * BATCH_SIZE}\")\n"
      ],
      "metadata": {
        "colab": {
          "base_uri": "https://localhost:8080/"
        },
        "id": "JVt0cNUbXkk1",
        "outputId": "ee1f374e-eb78-49c0-ba71-9a759603b6df"
      },
      "execution_count": null,
      "outputs": [
        {
          "output_type": "stream",
          "name": "stdout",
          "text": [
            "Training dataset size: 5632\n",
            "Validation dataset size: 1600\n",
            "Testing dataset size: 800\n"
          ]
        }
      ]
    },
    {
      "cell_type": "code",
      "source": [
        "# Define the model creation function\n",
        "def create_high_accuracy_model(num_classes):\n",
        "    model = tf.keras.models.Sequential([\n",
        "        tf.keras.layers.Conv2D(32, (3, 3), activation='relu', padding='same', input_shape=(64, 64, 3)),\n",
        "        tf.keras.layers.MaxPooling2D(2, 2),\n",
        "        tf.keras.layers.Dropout(0.3),\n",
        "\n",
        "        tf.keras.layers.Conv2D(64, (3, 3), activation='relu', padding='same'),\n",
        "        tf.keras.layers.MaxPooling2D(2, 2),\n",
        "        tf.keras.layers.Dropout(0.4),\n",
        "\n",
        "        tf.keras.layers.Conv2D(128, (3, 3), activation='relu', padding='same'),\n",
        "        tf.keras.layers.MaxPooling2D(2, 2),\n",
        "        tf.keras.layers.Dropout(0.4),\n",
        "\n",
        "        tf.keras.layers.Conv2D(256, (3, 3), activation='relu', padding='same'),\n",
        "        tf.keras.layers.MaxPooling2D(2, 2),\n",
        "        tf.keras.layers.Dropout(0.4),\n",
        "\n",
        "        tf.keras.layers.Conv2D(512, (3, 3), activation='relu', padding='same'),\n",
        "        tf.keras.layers.MaxPooling2D(2, 2),\n",
        "        tf.keras.layers.Dropout(0.4),\n",
        "\n",
        "        tf.keras.layers.Flatten(),\n",
        "        tf.keras.layers.Dense(1024, activation='relu'),\n",
        "        tf.keras.layers.Dropout(0.5),\n",
        "\n",
        "        tf.keras.layers.Dense(num_classes, activation='softmax')\n",
        "    ])\n",
        "\n",
        "    model.compile(\n",
        "        optimizer='adam',\n",
        "        loss='sparse_categorical_crossentropy',\n",
        "        metrics=['accuracy']\n",
        "    )\n",
        "    return model\n",
        "\n",
        "# Create the model with correct class count\n",
        "num_classes = 8\n",
        "high_acc_model = create_high_accuracy_model(num_classes)\n"
      ],
      "metadata": {
        "colab": {
          "base_uri": "https://localhost:8080/"
        },
        "id": "_5_R1TNYeZZ_",
        "outputId": "7115be45-3779-4a74-9a98-a9efb375a33f"
      },
      "execution_count": null,
      "outputs": [
        {
          "output_type": "stream",
          "name": "stderr",
          "text": [
            "/usr/local/lib/python3.11/dist-packages/keras/src/layers/convolutional/base_conv.py:107: UserWarning: Do not pass an `input_shape`/`input_dim` argument to a layer. When using Sequential models, prefer using an `Input(shape)` object as the first layer in the model instead.\n",
            "  super().__init__(activity_regularizer=activity_regularizer, **kwargs)\n"
          ]
        }
      ]
    },
    {
      "cell_type": "code",
      "source": [
        "from tensorflow.keras.callbacks import ReduceLROnPlateau, EarlyStopping\n",
        "\n",
        "# Callback to reduce learning rate when validation loss plateaus\n",
        "reduce_lr = ReduceLROnPlateau(\n",
        "    monitor='val_loss',        # Watch validation loss\n",
        "    factor=0.5,                # Reduce learning rate by half\n",
        "    patience=3,                # Wait 3 epochs before reducing\n",
        "    verbose=1,                 # Print update messages\n",
        "    min_lr=1e-6                # Avoid reducing too much\n",
        ")\n",
        "\n",
        "# Callback to stop early if validation loss doesn't improve\n",
        "early_stop = EarlyStopping(\n",
        "    monitor='val_loss',            # Watch validation loss\n",
        "    patience=5,                    # Wait 5 epochs before stopping\n",
        "    verbose=1,                     # Print message when stopping\n",
        "    restore_best_weights=True      # Keep best model\n",
        ")\n"
      ],
      "metadata": {
        "id": "rKDwU7K-a1E5"
      },
      "execution_count": null,
      "outputs": []
    },
    {
      "cell_type": "code",
      "source": [
        "# ✅ Train the model safely\n",
        "history_high_acc = high_acc_model.fit(\n",
        "    train_dataset,\n",
        "    validation_data=val_dataset,\n",
        "    epochs=50,\n",
        "    callbacks=[reduce_lr, early_stop],\n",
        "    verbose=1  # Optional: shows progress\n",
        ")\n"
      ],
      "metadata": {
        "colab": {
          "base_uri": "https://localhost:8080/"
        },
        "id": "KiC1ynk1ctmE",
        "outputId": "8220b145-b37f-494b-adda-ee800b8e2520"
      },
      "execution_count": null,
      "outputs": [
        {
          "output_type": "stream",
          "name": "stdout",
          "text": [
            "Epoch 1/50\n",
            "    176/Unknown \u001b[1m16s\u001b[0m 32ms/step - accuracy: 0.1196 - loss: 41.2825"
          ]
        },
        {
          "output_type": "stream",
          "name": "stderr",
          "text": [
            "/usr/local/lib/python3.11/dist-packages/keras/src/trainers/epoch_iterator.py:151: UserWarning: Your input ran out of data; interrupting training. Make sure that your dataset or generator can generate at least `steps_per_epoch * epochs` batches. You may need to use the `.repeat()` function when building your dataset.\n",
            "  self._interrupted_warning()\n"
          ]
        },
        {
          "output_type": "stream",
          "name": "stdout",
          "text": [
            "\b\b\b\b\b\b\b\b\b\b\b\b\b\b\b\b\b\b\b\b\b\b\b\b\b\b\b\b\b\b\b\b\b\b\b\b\b\b\b\b\b\b\b\b\b\b\b\b\b\b\b\b\b\b\b\b\b\b\b\b\b\b\b\b\r\u001b[1m176/176\u001b[0m \u001b[32m━━━━━━━━━━━━━━━━━━━━\u001b[0m\u001b[37m\u001b[0m \u001b[1m25s\u001b[0m 82ms/step - accuracy: 0.1197 - loss: 41.1099 - val_accuracy: 0.1125 - val_loss: 2.0792 - learning_rate: 0.0010\n",
            "Epoch 2/50\n",
            "\u001b[1m176/176\u001b[0m \u001b[32m━━━━━━━━━━━━━━━━━━━━\u001b[0m\u001b[37m\u001b[0m \u001b[1m15s\u001b[0m 85ms/step - accuracy: 0.1787 - loss: 2.0424 - val_accuracy: 0.3975 - val_loss: 1.8790 - learning_rate: 0.0010\n",
            "Epoch 3/50\n",
            "\u001b[1m176/176\u001b[0m \u001b[32m━━━━━━━━━━━━━━━━━━━━\u001b[0m\u001b[37m\u001b[0m \u001b[1m14s\u001b[0m 80ms/step - accuracy: 0.4364 - loss: 1.5277 - val_accuracy: 0.3756 - val_loss: 1.6591 - learning_rate: 0.0010\n",
            "Epoch 4/50\n",
            "\u001b[1m176/176\u001b[0m \u001b[32m━━━━━━━━━━━━━━━━━━━━\u001b[0m\u001b[37m\u001b[0m \u001b[1m20s\u001b[0m 74ms/step - accuracy: 0.5519 - loss: 1.1787 - val_accuracy: 0.4194 - val_loss: 1.5467 - learning_rate: 0.0010\n",
            "Epoch 5/50\n",
            "\u001b[1m176/176\u001b[0m \u001b[32m━━━━━━━━━━━━━━━━━━━━\u001b[0m\u001b[37m\u001b[0m \u001b[1m21s\u001b[0m 78ms/step - accuracy: 0.6185 - loss: 1.0242 - val_accuracy: 0.6400 - val_loss: 1.3362 - learning_rate: 0.0010\n",
            "Epoch 6/50\n",
            "\u001b[1m176/176\u001b[0m \u001b[32m━━━━━━━━━━━━━━━━━━━━\u001b[0m\u001b[37m\u001b[0m \u001b[1m22s\u001b[0m 122ms/step - accuracy: 0.6742 - loss: 0.8809 - val_accuracy: 0.7375 - val_loss: 1.0979 - learning_rate: 0.0010\n",
            "Epoch 7/50\n",
            "\u001b[1m176/176\u001b[0m \u001b[32m━━━━━━━━━━━━━━━━━━━━\u001b[0m\u001b[37m\u001b[0m \u001b[1m14s\u001b[0m 76ms/step - accuracy: 0.6968 - loss: 0.8222 - val_accuracy: 0.7681 - val_loss: 1.0491 - learning_rate: 0.0010\n",
            "Epoch 8/50\n",
            "\u001b[1m176/176\u001b[0m \u001b[32m━━━━━━━━━━━━━━━━━━━━\u001b[0m\u001b[37m\u001b[0m \u001b[1m14s\u001b[0m 77ms/step - accuracy: 0.7145 - loss: 0.7722 - val_accuracy: 0.7437 - val_loss: 1.0580 - learning_rate: 0.0010\n",
            "Epoch 9/50\n",
            "\u001b[1m176/176\u001b[0m \u001b[32m━━━━━━━━━━━━━━━━━━━━\u001b[0m\u001b[37m\u001b[0m \u001b[1m14s\u001b[0m 80ms/step - accuracy: 0.7246 - loss: 0.7464 - val_accuracy: 0.7056 - val_loss: 0.9947 - learning_rate: 0.0010\n",
            "Epoch 10/50\n",
            "\u001b[1m176/176\u001b[0m \u001b[32m━━━━━━━━━━━━━━━━━━━━\u001b[0m\u001b[37m\u001b[0m \u001b[1m20s\u001b[0m 76ms/step - accuracy: 0.7383 - loss: 0.6995 - val_accuracy: 0.7987 - val_loss: 0.8622 - learning_rate: 0.0010\n",
            "Epoch 11/50\n",
            "\u001b[1m176/176\u001b[0m \u001b[32m━━━━━━━━━━━━━━━━━━━━\u001b[0m\u001b[37m\u001b[0m \u001b[1m21s\u001b[0m 77ms/step - accuracy: 0.7529 - loss: 0.6707 - val_accuracy: 0.7912 - val_loss: 0.8497 - learning_rate: 0.0010\n",
            "Epoch 12/50\n",
            "\u001b[1m176/176\u001b[0m \u001b[32m━━━━━━━━━━━━━━━━━━━━\u001b[0m\u001b[37m\u001b[0m \u001b[1m14s\u001b[0m 76ms/step - accuracy: 0.7683 - loss: 0.6231 - val_accuracy: 0.8169 - val_loss: 0.8401 - learning_rate: 0.0010\n",
            "Epoch 13/50\n",
            "\u001b[1m176/176\u001b[0m \u001b[32m━━━━━━━━━━━━━━━━━━━━\u001b[0m\u001b[37m\u001b[0m \u001b[1m22s\u001b[0m 86ms/step - accuracy: 0.7699 - loss: 0.6252 - val_accuracy: 0.8263 - val_loss: 0.8364 - learning_rate: 0.0010\n",
            "Epoch 14/50\n",
            "\u001b[1m176/176\u001b[0m \u001b[32m━━━━━━━━━━━━━━━━━━━━\u001b[0m\u001b[37m\u001b[0m \u001b[1m14s\u001b[0m 76ms/step - accuracy: 0.7730 - loss: 0.5908 - val_accuracy: 0.7900 - val_loss: 0.8883 - learning_rate: 0.0010\n",
            "Epoch 15/50\n",
            "\u001b[1m176/176\u001b[0m \u001b[32m━━━━━━━━━━━━━━━━━━━━\u001b[0m\u001b[37m\u001b[0m \u001b[1m21s\u001b[0m 79ms/step - accuracy: 0.7939 - loss: 0.5690 - val_accuracy: 0.8363 - val_loss: 0.6818 - learning_rate: 0.0010\n",
            "Epoch 16/50\n",
            "\u001b[1m176/176\u001b[0m \u001b[32m━━━━━━━━━━━━━━━━━━━━\u001b[0m\u001b[37m\u001b[0m \u001b[1m19s\u001b[0m 110ms/step - accuracy: 0.7663 - loss: 0.6249 - val_accuracy: 0.7819 - val_loss: 0.8191 - learning_rate: 0.0010\n",
            "Epoch 17/50\n",
            "\u001b[1m176/176\u001b[0m \u001b[32m━━━━━━━━━━━━━━━━━━━━\u001b[0m\u001b[37m\u001b[0m \u001b[1m20s\u001b[0m 107ms/step - accuracy: 0.7820 - loss: 0.5685 - val_accuracy: 0.8056 - val_loss: 0.7950 - learning_rate: 0.0010\n",
            "Epoch 18/50\n",
            "\u001b[1m176/176\u001b[0m \u001b[32m━━━━━━━━━━━━━━━━━━━━\u001b[0m\u001b[37m\u001b[0m \u001b[1m0s\u001b[0m 40ms/step - accuracy: 0.7959 - loss: 0.5490\n",
            "Epoch 18: ReduceLROnPlateau reducing learning rate to 0.0005000000237487257.\n",
            "\u001b[1m176/176\u001b[0m \u001b[32m━━━━━━━━━━━━━━━━━━━━\u001b[0m\u001b[37m\u001b[0m \u001b[1m14s\u001b[0m 77ms/step - accuracy: 0.7959 - loss: 0.5490 - val_accuracy: 0.8300 - val_loss: 0.6902 - learning_rate: 0.0010\n",
            "Epoch 19/50\n",
            "\u001b[1m176/176\u001b[0m \u001b[32m━━━━━━━━━━━━━━━━━━━━\u001b[0m\u001b[37m\u001b[0m \u001b[1m21s\u001b[0m 77ms/step - accuracy: 0.8105 - loss: 0.5094 - val_accuracy: 0.8719 - val_loss: 0.5936 - learning_rate: 5.0000e-04\n",
            "Epoch 20/50\n",
            "\u001b[1m176/176\u001b[0m \u001b[32m━━━━━━━━━━━━━━━━━━━━\u001b[0m\u001b[37m\u001b[0m \u001b[1m13s\u001b[0m 76ms/step - accuracy: 0.8221 - loss: 0.4631 - val_accuracy: 0.8531 - val_loss: 0.5865 - learning_rate: 5.0000e-04\n",
            "Epoch 21/50\n",
            "\u001b[1m176/176\u001b[0m \u001b[32m━━━━━━━━━━━━━━━━━━━━\u001b[0m\u001b[37m\u001b[0m \u001b[1m20s\u001b[0m 112ms/step - accuracy: 0.8220 - loss: 0.4727 - val_accuracy: 0.8694 - val_loss: 0.5897 - learning_rate: 5.0000e-04\n",
            "Epoch 22/50\n",
            "\u001b[1m176/176\u001b[0m \u001b[32m━━━━━━━━━━━━━━━━━━━━\u001b[0m\u001b[37m\u001b[0m \u001b[1m14s\u001b[0m 82ms/step - accuracy: 0.8179 - loss: 0.4810 - val_accuracy: 0.8737 - val_loss: 0.5370 - learning_rate: 5.0000e-04\n",
            "Epoch 23/50\n",
            "\u001b[1m176/176\u001b[0m \u001b[32m━━━━━━━━━━━━━━━━━━━━\u001b[0m\u001b[37m\u001b[0m \u001b[1m22s\u001b[0m 88ms/step - accuracy: 0.8309 - loss: 0.4563 - val_accuracy: 0.8831 - val_loss: 0.4794 - learning_rate: 5.0000e-04\n",
            "Epoch 24/50\n",
            "\u001b[1m176/176\u001b[0m \u001b[32m━━━━━━━━━━━━━━━━━━━━\u001b[0m\u001b[37m\u001b[0m \u001b[1m19s\u001b[0m 80ms/step - accuracy: 0.8347 - loss: 0.4430 - val_accuracy: 0.8800 - val_loss: 0.5093 - learning_rate: 5.0000e-04\n",
            "Epoch 25/50\n",
            "\u001b[1m176/176\u001b[0m \u001b[32m━━━━━━━━━━━━━━━━━━━━\u001b[0m\u001b[37m\u001b[0m \u001b[1m14s\u001b[0m 80ms/step - accuracy: 0.8406 - loss: 0.4230 - val_accuracy: 0.8850 - val_loss: 0.5153 - learning_rate: 5.0000e-04\n",
            "Epoch 26/50\n",
            "\u001b[1m176/176\u001b[0m \u001b[32m━━━━━━━━━━━━━━━━━━━━\u001b[0m\u001b[37m\u001b[0m \u001b[1m19s\u001b[0m 109ms/step - accuracy: 0.8398 - loss: 0.4287 - val_accuracy: 0.8794 - val_loss: 0.4323 - learning_rate: 5.0000e-04\n",
            "Epoch 27/50\n",
            "\u001b[1m176/176\u001b[0m \u001b[32m━━━━━━━━━━━━━━━━━━━━\u001b[0m\u001b[37m\u001b[0m \u001b[1m14s\u001b[0m 81ms/step - accuracy: 0.8309 - loss: 0.4418 - val_accuracy: 0.8869 - val_loss: 0.5110 - learning_rate: 5.0000e-04\n",
            "Epoch 28/50\n",
            "\u001b[1m176/176\u001b[0m \u001b[32m━━━━━━━━━━━━━━━━━━━━\u001b[0m\u001b[37m\u001b[0m \u001b[1m14s\u001b[0m 80ms/step - accuracy: 0.8422 - loss: 0.4260 - val_accuracy: 0.8856 - val_loss: 0.4350 - learning_rate: 5.0000e-04\n",
            "Epoch 29/50\n",
            "\u001b[1m176/176\u001b[0m \u001b[32m━━━━━━━━━━━━━━━━━━━━\u001b[0m\u001b[37m\u001b[0m \u001b[1m20s\u001b[0m 80ms/step - accuracy: 0.8437 - loss: 0.4194 - val_accuracy: 0.8894 - val_loss: 0.4084 - learning_rate: 5.0000e-04\n",
            "Epoch 30/50\n",
            "\u001b[1m176/176\u001b[0m \u001b[32m━━━━━━━━━━━━━━━━━━━━\u001b[0m\u001b[37m\u001b[0m \u001b[1m21s\u001b[0m 118ms/step - accuracy: 0.8416 - loss: 0.4269 - val_accuracy: 0.8975 - val_loss: 0.4173 - learning_rate: 5.0000e-04\n",
            "Epoch 31/50\n",
            "\u001b[1m176/176\u001b[0m \u001b[32m━━━━━━━━━━━━━━━━━━━━\u001b[0m\u001b[37m\u001b[0m \u001b[1m14s\u001b[0m 76ms/step - accuracy: 0.8414 - loss: 0.3928 - val_accuracy: 0.8687 - val_loss: 0.5257 - learning_rate: 5.0000e-04\n",
            "Epoch 32/50\n",
            "\u001b[1m175/176\u001b[0m \u001b[32m━━━━━━━━━━━━━━━━━━━\u001b[0m\u001b[37m━\u001b[0m \u001b[1m0s\u001b[0m 33ms/step - accuracy: 0.8505 - loss: 0.4081\n",
            "Epoch 32: ReduceLROnPlateau reducing learning rate to 0.0002500000118743628.\n",
            "\u001b[1m176/176\u001b[0m \u001b[32m━━━━━━━━━━━━━━━━━━━━\u001b[0m\u001b[37m\u001b[0m \u001b[1m14s\u001b[0m 77ms/step - accuracy: 0.8505 - loss: 0.4082 - val_accuracy: 0.8994 - val_loss: 0.4535 - learning_rate: 5.0000e-04\n",
            "Epoch 33/50\n",
            "\u001b[1m176/176\u001b[0m \u001b[32m━━━━━━━━━━━━━━━━━━━━\u001b[0m\u001b[37m\u001b[0m \u001b[1m14s\u001b[0m 77ms/step - accuracy: 0.8609 - loss: 0.3619 - val_accuracy: 0.8900 - val_loss: 0.4377 - learning_rate: 2.5000e-04\n",
            "Epoch 34/50\n",
            "\u001b[1m176/176\u001b[0m \u001b[32m━━━━━━━━━━━━━━━━━━━━\u001b[0m\u001b[37m\u001b[0m \u001b[1m20s\u001b[0m 77ms/step - accuracy: 0.8585 - loss: 0.3392 - val_accuracy: 0.9000 - val_loss: 0.3800 - learning_rate: 2.5000e-04\n",
            "Epoch 35/50\n",
            "\u001b[1m176/176\u001b[0m \u001b[32m━━━━━━━━━━━━━━━━━━━━\u001b[0m\u001b[37m\u001b[0m \u001b[1m15s\u001b[0m 85ms/step - accuracy: 0.8662 - loss: 0.3372 - val_accuracy: 0.9125 - val_loss: 0.3437 - learning_rate: 2.5000e-04\n",
            "Epoch 36/50\n",
            "\u001b[1m176/176\u001b[0m \u001b[32m━━━━━━━━━━━━━━━━━━━━\u001b[0m\u001b[37m\u001b[0m \u001b[1m14s\u001b[0m 77ms/step - accuracy: 0.8699 - loss: 0.3351 - val_accuracy: 0.9137 - val_loss: 0.3482 - learning_rate: 2.5000e-04\n",
            "Epoch 37/50\n",
            "\u001b[1m176/176\u001b[0m \u001b[32m━━━━━━━━━━━━━━━━━━━━\u001b[0m\u001b[37m\u001b[0m \u001b[1m14s\u001b[0m 77ms/step - accuracy: 0.8632 - loss: 0.3444 - val_accuracy: 0.9300 - val_loss: 0.3320 - learning_rate: 2.5000e-04\n",
            "Epoch 38/50\n",
            "\u001b[1m176/176\u001b[0m \u001b[32m━━━━━━━━━━━━━━━━━━━━\u001b[0m\u001b[37m\u001b[0m \u001b[1m22s\u001b[0m 124ms/step - accuracy: 0.8691 - loss: 0.3331 - val_accuracy: 0.9181 - val_loss: 0.3555 - learning_rate: 2.5000e-04\n",
            "Epoch 39/50\n",
            "\u001b[1m176/176\u001b[0m \u001b[32m━━━━━━━━━━━━━━━━━━━━\u001b[0m\u001b[37m\u001b[0m \u001b[1m13s\u001b[0m 76ms/step - accuracy: 0.8755 - loss: 0.3396 - val_accuracy: 0.9206 - val_loss: 0.3674 - learning_rate: 2.5000e-04\n",
            "Epoch 40/50\n",
            "\u001b[1m175/176\u001b[0m \u001b[32m━━━━━━━━━━━━━━━━━━━\u001b[0m\u001b[37m━\u001b[0m \u001b[1m0s\u001b[0m 33ms/step - accuracy: 0.8707 - loss: 0.3260\n",
            "Epoch 40: ReduceLROnPlateau reducing learning rate to 0.0001250000059371814.\n",
            "\u001b[1m176/176\u001b[0m \u001b[32m━━━━━━━━━━━━━━━━━━━━\u001b[0m\u001b[37m\u001b[0m \u001b[1m14s\u001b[0m 77ms/step - accuracy: 0.8707 - loss: 0.3259 - val_accuracy: 0.9106 - val_loss: 0.3502 - learning_rate: 2.5000e-04\n",
            "Epoch 41/50\n",
            "\u001b[1m176/176\u001b[0m \u001b[32m━━━━━━━━━━━━━━━━━━━━\u001b[0m\u001b[37m\u001b[0m \u001b[1m14s\u001b[0m 77ms/step - accuracy: 0.8699 - loss: 0.3333 - val_accuracy: 0.9187 - val_loss: 0.3326 - learning_rate: 1.2500e-04\n",
            "Epoch 42/50\n",
            "\u001b[1m176/176\u001b[0m \u001b[32m━━━━━━━━━━━━━━━━━━━━\u001b[0m\u001b[37m\u001b[0m \u001b[1m40s\u001b[0m 186ms/step - accuracy: 0.8803 - loss: 0.3103 - val_accuracy: 0.9219 - val_loss: 0.3195 - learning_rate: 1.2500e-04\n",
            "Epoch 43/50\n",
            "\u001b[1m176/176\u001b[0m \u001b[32m━━━━━━━━━━━━━━━━━━━━\u001b[0m\u001b[37m\u001b[0m \u001b[1m14s\u001b[0m 77ms/step - accuracy: 0.8808 - loss: 0.3001 - val_accuracy: 0.9331 - val_loss: 0.3368 - learning_rate: 1.2500e-04\n",
            "Epoch 44/50\n",
            "\u001b[1m176/176\u001b[0m \u001b[32m━━━━━━━━━━━━━━━━━━━━\u001b[0m\u001b[37m\u001b[0m \u001b[1m14s\u001b[0m 78ms/step - accuracy: 0.8796 - loss: 0.2892 - val_accuracy: 0.9406 - val_loss: 0.3114 - learning_rate: 1.2500e-04\n",
            "Epoch 45/50\n",
            "\u001b[1m176/176\u001b[0m \u001b[32m━━━━━━━━━━━━━━━━━━━━\u001b[0m\u001b[37m\u001b[0m \u001b[1m22s\u001b[0m 123ms/step - accuracy: 0.8916 - loss: 0.2859 - val_accuracy: 0.9212 - val_loss: 0.3259 - learning_rate: 1.2500e-04\n",
            "Epoch 46/50\n",
            "\u001b[1m176/176\u001b[0m \u001b[32m━━━━━━━━━━━━━━━━━━━━\u001b[0m\u001b[37m\u001b[0m \u001b[1m14s\u001b[0m 77ms/step - accuracy: 0.8798 - loss: 0.2951 - val_accuracy: 0.9250 - val_loss: 0.3214 - learning_rate: 1.2500e-04\n",
            "Epoch 47/50\n",
            "\u001b[1m176/176\u001b[0m \u001b[32m━━━━━━━━━━━━━━━━━━━━\u001b[0m\u001b[37m\u001b[0m \u001b[1m19s\u001b[0m 109ms/step - accuracy: 0.8937 - loss: 0.2769 - val_accuracy: 0.9319 - val_loss: 0.2925 - learning_rate: 1.2500e-04\n",
            "Epoch 48/50\n",
            "\u001b[1m176/176\u001b[0m \u001b[32m━━━━━━━━━━━━━━━━━━━━\u001b[0m\u001b[37m\u001b[0m \u001b[1m14s\u001b[0m 78ms/step - accuracy: 0.8893 - loss: 0.2779 - val_accuracy: 0.9369 - val_loss: 0.2873 - learning_rate: 1.2500e-04\n",
            "Epoch 49/50\n",
            "\u001b[1m176/176\u001b[0m \u001b[32m━━━━━━━━━━━━━━━━━━━━\u001b[0m\u001b[37m\u001b[0m \u001b[1m14s\u001b[0m 78ms/step - accuracy: 0.8879 - loss: 0.2750 - val_accuracy: 0.9256 - val_loss: 0.3173 - learning_rate: 1.2500e-04\n",
            "Epoch 50/50\n",
            "\u001b[1m176/176\u001b[0m \u001b[32m━━━━━━━━━━━━━━━━━━━━\u001b[0m\u001b[37m\u001b[0m \u001b[1m14s\u001b[0m 77ms/step - accuracy: 0.8943 - loss: 0.2766 - val_accuracy: 0.9431 - val_loss: 0.2961 - learning_rate: 1.2500e-04\n",
            "Restoring model weights from the end of the best epoch: 48.\n"
          ]
        }
      ]
    },
    {
      "cell_type": "code",
      "source": [
        "# Evaluate the model on validation data\n",
        "high_acc_eval = high_acc_model.evaluate(val_dataset)\n",
        "print(f\"High Accuracy Model - Loss: {high_acc_eval[0]}, Accuracy: {high_acc_eval[1]}\")\n"
      ],
      "metadata": {
        "id": "rxVgqgkbf15r",
        "colab": {
          "base_uri": "https://localhost:8080/"
        },
        "outputId": "8b9f521a-a365-4751-99cd-384cf7264614"
      },
      "execution_count": null,
      "outputs": [
        {
          "output_type": "stream",
          "name": "stdout",
          "text": [
            "\u001b[1m50/50\u001b[0m \u001b[32m━━━━━━━━━━━━━━━━━━━━\u001b[0m\u001b[37m\u001b[0m \u001b[1m8s\u001b[0m 31ms/step - accuracy: 0.9411 - loss: 0.2856\n",
            "High Accuracy Model - Loss: 0.2908799648284912, Accuracy: 0.9356250166893005\n"
          ]
        }
      ]
    },
    {
      "cell_type": "code",
      "source": [
        "import matplotlib.pyplot as plt\n",
        "\n",
        "# Plot training and validation accuracy\n",
        "def plot_accuracy(history):\n",
        "    plt.plot(history.history['accuracy'], label='Train')\n",
        "    plt.plot(history.history['val_accuracy'], label='Validation')\n",
        "    plt.title('Model Accuracy')\n",
        "    plt.ylabel('Accuracy')\n",
        "    plt.xlabel('Epoch')\n",
        "    plt.legend(loc='upper left')\n",
        "    plt.grid(True)\n",
        "    plt.show()\n",
        "\n",
        "# Call the function to display the accuracy graph\n",
        "plot_accuracy(history_high_acc)\n",
        "\n",
        "\n",
        "# Explanation\n",
        "# ---------------------------------\n",
        "\n",
        "# epoch increasing , and accuracy also increasing\n",
        "\n",
        "# vaidation accuracy good which the 95 and training nearby 85"
      ],
      "metadata": {
        "colab": {
          "base_uri": "https://localhost:8080/",
          "height": 472
        },
        "id": "jaUaiOOreSTL",
        "outputId": "b0eea063-4156-404d-ac1e-736348b4a6a2"
      },
      "execution_count": null,
      "outputs": [
        {
          "output_type": "display_data",
          "data": {
            "text/plain": [
              "<Figure size 640x480 with 1 Axes>"
            ],
            "image/png": "[encoded data removed]"
          },
          "metadata": {}
        }
      ]
    },
    {
      "cell_type": "code",
      "source": [
        "import numpy as np\n",
        "from sklearn.metrics import classification_report, confusion_matrix\n",
        "import seaborn as sns\n",
        "import matplotlib.pyplot as plt\n",
        "\n",
        "# Get predictions on the test dataset\n",
        "y_true = []  # True labels\n",
        "y_pred = []  # Predicted labels\n",
        "\n",
        "# Iterate over the test dataset and collect the true and predicted labels\n",
        "for images, labels in test_dataset:\n",
        "    predictions = high_acc_model.predict(images)\n",
        "    predicted_labels = np.argmax(predictions, axis=1)  # Convert predictions to class labels\n",
        "    y_true.extend(labels.numpy())                      # Convert to numpy array and append\n",
        "    y_pred.extend(predicted_labels)                    # Append predicted labels\n",
        "\n",
        "# Convert to numpy arrays\n",
        "y_true = np.array(y_true)\n",
        "y_pred = np.array(y_pred)\n",
        "\n",
        "# Classification report\n",
        "report = classification_report(y_true, y_pred, target_names=class_names)\n",
        "print(\"Classification Report:\")\n",
        "print(report)\n",
        "\n",
        "# Confusion matrix\n",
        "conf_matrix = confusion_matrix(y_true, y_pred)\n",
        "\n",
        "# Plot confusion matrix\n",
        "plt.figure(figsize=(8, 6))\n",
        "sns.heatmap(conf_matrix, annot=True, fmt='d', cmap='Blues',\n",
        "            xticklabels=class_names, yticklabels=class_names)\n",
        "plt.xlabel('Predicted')\n",
        "plt.ylabel('True')\n",
        "plt.title('Confusion Matrix')\n",
        "plt.show()\n"
      ],
      "metadata": {
        "colab": {
          "base_uri": "https://localhost:8080/",
          "height": 1000
        },
        "id": "9GcW1W5XgaOH",
        "outputId": "daadefad-4ab5-4795-ea3e-fe78e689ebe6"
      },
      "execution_count": null,
      "outputs": [
        {
          "output_type": "stream",
          "name": "stdout",
          "text": [
            "\u001b[1m1/1\u001b[0m \u001b[32m━━━━━━━━━━━━━━━━━━━━\u001b[0m\u001b[37m\u001b[0m \u001b[1m0s\u001b[0m 400ms/step\n",
            "\u001b[1m1/1\u001b[0m \u001b[32m━━━━━━━━━━━━━━━━━━━━\u001b[0m\u001b[37m\u001b[0m \u001b[1m0s\u001b[0m 36ms/step\n",
            "\u001b[1m1/1\u001b[0m \u001b[32m━━━━━━━━━━━━━━━━━━━━\u001b[0m\u001b[37m\u001b[0m \u001b[1m0s\u001b[0m 29ms/step\n",
            "\u001b[1m1/1\u001b[0m \u001b[32m━━━━━━━━━━━━━━━━━━━━\u001b[0m\u001b[37m\u001b[0m \u001b[1m0s\u001b[0m 29ms/step\n",
            "\u001b[1m1/1\u001b[0m \u001b[32m━━━━━━━━━━━━━━━━━━━━\u001b[0m\u001b[37m\u001b[0m \u001b[1m0s\u001b[0m 30ms/step\n",
            "\u001b[1m1/1\u001b[0m \u001b[32m━━━━━━━━━━━━━━━━━━━━\u001b[0m\u001b[37m\u001b[0m \u001b[1m0s\u001b[0m 30ms/step\n",
            "\u001b[1m1/1\u001b[0m \u001b[32m━━━━━━━━━━━━━━━━━━━━\u001b[0m\u001b[37m\u001b[0m \u001b[1m0s\u001b[0m 53ms/step\n",
            "\u001b[1m1/1\u001b[0m \u001b[32m━━━━━━━━━━━━━━━━━━━━\u001b[0m\u001b[37m\u001b[0m \u001b[1m0s\u001b[0m 34ms/step\n",
            "\u001b[1m1/1\u001b[0m \u001b[32m━━━━━━━━━━━━━━━━━━━━\u001b[0m\u001b[37m\u001b[0m \u001b[1m0s\u001b[0m 32ms/step\n",
            "\u001b[1m1/1\u001b[0m \u001b[32m━━━━━━━━━━━━━━━━━━━━\u001b[0m\u001b[37m\u001b[0m \u001b[1m0s\u001b[0m 53ms/step\n",
            "\u001b[1m1/1\u001b[0m \u001b[32m━━━━━━━━━━━━━━━━━━━━\u001b[0m\u001b[37m\u001b[0m \u001b[1m0s\u001b[0m 33ms/step\n",
            "\u001b[1m1/1\u001b[0m \u001b[32m━━━━━━━━━━━━━━━━━━━━\u001b[0m\u001b[37m\u001b[0m \u001b[1m0s\u001b[0m 31ms/step\n",
            "\u001b[1m1/1\u001b[0m \u001b[32m━━━━━━━━━━━━━━━━━━━━\u001b[0m\u001b[37m\u001b[0m \u001b[1m0s\u001b[0m 31ms/step\n",
            "\u001b[1m1/1\u001b[0m \u001b[32m━━━━━━━━━━━━━━━━━━━━\u001b[0m\u001b[37m\u001b[0m \u001b[1m0s\u001b[0m 42ms/step\n",
            "\u001b[1m1/1\u001b[0m \u001b[32m━━━━━━━━━━━━━━━━━━━━\u001b[0m\u001b[37m\u001b[0m \u001b[1m0s\u001b[0m 44ms/step\n",
            "\u001b[1m1/1\u001b[0m \u001b[32m━━━━━━━━━━━━━━━━━━━━\u001b[0m\u001b[37m\u001b[0m \u001b[1m0s\u001b[0m 64ms/step\n",
            "\u001b[1m1/1\u001b[0m \u001b[32m━━━━━━━━━━━━━━━━━━━━\u001b[0m\u001b[37m\u001b[0m \u001b[1m0s\u001b[0m 41ms/step\n",
            "\u001b[1m1/1\u001b[0m \u001b[32m━━━━━━━━━━━━━━━━━━━━\u001b[0m\u001b[37m\u001b[0m \u001b[1m0s\u001b[0m 48ms/step\n",
            "\u001b[1m1/1\u001b[0m \u001b[32m━━━━━━━━━━━━━━━━━━━━\u001b[0m\u001b[37m\u001b[0m \u001b[1m0s\u001b[0m 41ms/step\n",
            "\u001b[1m1/1\u001b[0m \u001b[32m━━━━━━━━━━━━━━━━━━━━\u001b[0m\u001b[37m\u001b[0m \u001b[1m0s\u001b[0m 44ms/step\n",
            "\u001b[1m1/1\u001b[0m \u001b[32m━━━━━━━━━━━━━━━━━━━━\u001b[0m\u001b[37m\u001b[0m \u001b[1m0s\u001b[0m 54ms/step\n",
            "\u001b[1m1/1\u001b[0m \u001b[32m━━━━━━━━━━━━━━━━━━━━\u001b[0m\u001b[37m\u001b[0m \u001b[1m0s\u001b[0m 49ms/step\n",
            "\u001b[1m1/1\u001b[0m \u001b[32m━━━━━━━━━━━━━━━━━━━━\u001b[0m\u001b[37m\u001b[0m \u001b[1m0s\u001b[0m 41ms/step\n",
            "\u001b[1m1/1\u001b[0m \u001b[32m━━━━━━━━━━━━━━━━━━━━\u001b[0m\u001b[37m\u001b[0m \u001b[1m0s\u001b[0m 44ms/step\n",
            "\u001b[1m1/1\u001b[0m \u001b[32m━━━━━━━━━━━━━━━━━━━━\u001b[0m\u001b[37m\u001b[0m \u001b[1m0s\u001b[0m 42ms/step\n",
            "Classification Report:\n",
            "              precision    recall  f1-score   support\n",
            "\n",
            "          A+       1.00      0.89      0.94        65\n",
            "          A-       0.92      0.86      0.89       142\n",
            "         AB+       0.90      0.98      0.93        81\n",
            "         AB-       0.91      0.96      0.94        99\n",
            "          B+       0.91      0.94      0.92        84\n",
            "          B-       0.96      0.97      0.97       131\n",
            "          O+       0.97      0.90      0.93       125\n",
            "          O-       0.87      0.97      0.92        73\n",
            "\n",
            "    accuracy                           0.93       800\n",
            "   macro avg       0.93      0.93      0.93       800\n",
            "weighted avg       0.93      0.93      0.93       800\n",
            "\n"
          ]
        },
        {
          "output_type": "display_data",
          "data": {
            "text/plain": [
              "<Figure size 800x600 with 2 Axes>"
            ],
            "image/png": "[encoded data removed]"
          },
          "metadata": {}
        }
      ]
    },
    {
      "cell_type": "code",
      "source": [
        "high_acc_model.save('model.h5')\n",
        "print(\"Model saved in HDF5 format.\")"
      ],
      "metadata": {
        "id": "pQSuf4VJhYU6",
        "colab": {
          "base_uri": "https://localhost:8080/"
        },
        "outputId": "34e157ce-b6f8-462e-a4ed-cffa2d73e4ae"
      },
      "execution_count": null,
      "outputs": [
        {
          "output_type": "stream",
          "name": "stderr",
          "text": [
            "WARNING:absl:You are saving your model as an HDF5 file via `model.save()` or `keras.saving.save_model(model)`. This file format is considered legacy. We recommend using instead the native Keras format, e.g. `model.save('my_model.keras')` or `keras.saving.save_model(model, 'my_model.keras')`. \n"
          ]
        },
        {
          "output_type": "stream",
          "name": "stdout",
          "text": [
            "Model saved in HDF5 format.\n"
          ]
        }
      ]
    },
    {
      "cell_type": "code",
      "source": [],
      "metadata": {
        "id": "g5mTNjFR5LpF"
      },
      "execution_count": null,
      "outputs": []
    }
  ]
}